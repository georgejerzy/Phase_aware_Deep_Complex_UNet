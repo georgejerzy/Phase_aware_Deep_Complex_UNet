{
 "cells": [
  {
   "cell_type": "markdown",
   "id": "bibliographic-might",
   "metadata": {},
   "source": [
    "# Notebook to make DCUnet code run"
   ]
  },
  {
   "cell_type": "markdown",
   "id": "located-ground",
   "metadata": {},
   "source": [
    "### Data preparation from MS-SNSD dataset"
   ]
  },
  {
   "cell_type": "code",
   "execution_count": 99,
   "id": "automatic-specialist",
   "metadata": {},
   "outputs": [],
   "source": [
    "import os\n",
    "import shutil\n",
    "import numpy as np\n",
    "import pandas as pd"
   ]
  },
  {
   "cell_type": "code",
   "execution_count": 16,
   "id": "precise-infection",
   "metadata": {},
   "outputs": [],
   "source": [
    "files_dir = '../datasets/raw/NoisySpeech_training'"
   ]
  },
  {
   "cell_type": "code",
   "execution_count": 17,
   "id": "historic-saying",
   "metadata": {},
   "outputs": [],
   "source": [
    "files_list = os.listdir(files_dir) "
   ]
  },
  {
   "cell_type": "code",
   "execution_count": 18,
   "id": "indonesian-exploration",
   "metadata": {},
   "outputs": [
    {
     "data": {
      "text/plain": [
       "['clnsp244.wav',\n",
       " 'clnsp268.wav',\n",
       " 'clnsp197.wav',\n",
       " 'clnsp32.wav',\n",
       " 'clnsp182.wav',\n",
       " 'clnsp395.wav',\n",
       " 'clnsp233.wav',\n",
       " 'clnsp125.wav',\n",
       " 'clnsp402.wav',\n",
       " 'clnsp537.wav',\n",
       " 'clnsp223.wav',\n",
       " 'clnsp6.wav',\n",
       " 'clnsp262.wav',\n",
       " 'clnsp376.wav',\n",
       " 'clnsp110.wav',\n",
       " 'clnsp494.wav',\n",
       " 'clnsp292.wav',\n",
       " 'clnsp411.wav',\n",
       " 'clnsp578.wav',\n",
       " 'clnsp55.wav',\n",
       " 'clnsp589.wav',\n",
       " 'clnsp308.wav',\n",
       " 'clnsp599.wav',\n",
       " 'clnsp335.wav',\n",
       " 'clnsp344.wav',\n",
       " 'clnsp248.wav',\n",
       " 'clnsp358.wav',\n",
       " 'clnsp81.wav',\n",
       " 'clnsp593.wav',\n",
       " 'clnsp112.wav',\n",
       " 'clnsp192.wav',\n",
       " 'clnsp270.wav',\n",
       " 'clnsp387.wav',\n",
       " 'clnsp78.wav',\n",
       " 'clnsp564.wav',\n",
       " 'clnsp251.wav',\n",
       " 'clnsp531.wav',\n",
       " 'clnsp169.wav',\n",
       " 'clnsp468.wav',\n",
       " 'clnsp40.wav',\n",
       " 'clnsp240.wav',\n",
       " 'clnsp273.wav',\n",
       " 'clnsp289.wav',\n",
       " 'clnsp134.wav',\n",
       " 'clnsp437.wav',\n",
       " 'clnsp271.wav',\n",
       " 'clnsp318.wav',\n",
       " 'clnsp542.wav',\n",
       " 'clnsp394.wav',\n",
       " 'clnsp333.wav',\n",
       " 'clnsp178.wav',\n",
       " 'clnsp95.wav',\n",
       " 'clnsp555.wav',\n",
       " 'clnsp69.wav',\n",
       " 'clnsp521.wav',\n",
       " 'clnsp73.wav',\n",
       " 'clnsp356.wav',\n",
       " 'clnsp386.wav',\n",
       " 'clnsp206.wav',\n",
       " 'clnsp361.wav',\n",
       " 'clnsp263.wav',\n",
       " 'clnsp246.wav',\n",
       " 'clnsp577.wav',\n",
       " 'clnsp357.wav',\n",
       " 'clnsp378.wav',\n",
       " 'clnsp259.wav',\n",
       " 'clnsp466.wav',\n",
       " 'clnsp109.wav',\n",
       " 'clnsp391.wav',\n",
       " 'clnsp163.wav',\n",
       " 'clnsp118.wav',\n",
       " 'clnsp539.wav',\n",
       " 'clnsp71.wav',\n",
       " 'clnsp507.wav',\n",
       " 'clnsp525.wav',\n",
       " 'clnsp225.wav',\n",
       " 'clnsp297.wav',\n",
       " 'clnsp464.wav',\n",
       " 'clnsp598.wav',\n",
       " 'clnsp279.wav',\n",
       " 'clnsp523.wav',\n",
       " 'clnsp274.wav',\n",
       " 'clnsp101.wav',\n",
       " 'clnsp301.wav',\n",
       " 'clnsp290.wav',\n",
       " 'clnsp154.wav',\n",
       " 'clnsp409.wav',\n",
       " 'clnsp54.wav',\n",
       " 'clnsp124.wav',\n",
       " 'clnsp49.wav',\n",
       " 'clnsp407.wav',\n",
       " 'clnsp167.wav',\n",
       " 'clnsp530.wav',\n",
       " 'clnsp575.wav',\n",
       " 'clnsp364.wav',\n",
       " 'clnsp399.wav',\n",
       " 'clnsp307.wav',\n",
       " 'clnsp561.wav',\n",
       " 'clnsp26.wav',\n",
       " 'clnsp351.wav',\n",
       " 'clnsp576.wav',\n",
       " 'clnsp428.wav',\n",
       " 'clnsp371.wav',\n",
       " 'clnsp212.wav',\n",
       " 'clnsp8.wav',\n",
       " 'clnsp229.wav',\n",
       " 'clnsp231.wav',\n",
       " 'clnsp568.wav',\n",
       " 'clnsp168.wav',\n",
       " 'clnsp305.wav',\n",
       " 'clnsp465.wav',\n",
       " 'clnsp121.wav',\n",
       " 'clnsp152.wav',\n",
       " 'clnsp146.wav',\n",
       " 'clnsp362.wav',\n",
       " 'clnsp600.wav',\n",
       " 'clnsp592.wav',\n",
       " 'clnsp236.wav',\n",
       " 'clnsp36.wav',\n",
       " 'clnsp10.wav',\n",
       " 'clnsp191.wav',\n",
       " 'clnsp30.wav',\n",
       " 'clnsp443.wav',\n",
       " 'clnsp142.wav',\n",
       " 'clnsp319.wav',\n",
       " 'clnsp16.wav',\n",
       " 'clnsp403.wav',\n",
       " 'clnsp117.wav',\n",
       " 'clnsp573.wav',\n",
       " 'clnsp482.wav',\n",
       " 'clnsp441.wav',\n",
       " 'clnsp164.wav',\n",
       " 'clnsp486.wav',\n",
       " 'clnsp315.wav',\n",
       " 'clnsp138.wav',\n",
       " 'clnsp339.wav',\n",
       " 'clnsp149.wav',\n",
       " 'clnsp186.wav',\n",
       " 'clnsp584.wav',\n",
       " 'clnsp533.wav',\n",
       " 'clnsp508.wav',\n",
       " 'clnsp497.wav',\n",
       " 'clnsp526.wav',\n",
       " 'clnsp293.wav',\n",
       " 'clnsp520.wav',\n",
       " 'clnsp176.wav',\n",
       " 'clnsp559.wav',\n",
       " 'clnsp64.wav',\n",
       " 'clnsp232.wav',\n",
       " 'clnsp157.wav',\n",
       " 'clnsp77.wav',\n",
       " 'clnsp444.wav',\n",
       " 'clnsp218.wav',\n",
       " 'clnsp554.wav',\n",
       " 'clnsp283.wav',\n",
       " 'clnsp285.wav',\n",
       " 'clnsp548.wav',\n",
       " 'clnsp420.wav',\n",
       " 'clnsp489.wav',\n",
       " 'clnsp211.wav',\n",
       " 'clnsp57.wav',\n",
       " 'clnsp205.wav',\n",
       " 'clnsp31.wav',\n",
       " 'clnsp63.wav',\n",
       " 'clnsp470.wav',\n",
       " 'clnsp119.wav',\n",
       " 'clnsp239.wav',\n",
       " 'clnsp384.wav',\n",
       " 'clnsp75.wav',\n",
       " 'clnsp442.wav',\n",
       " 'clnsp87.wav',\n",
       " 'clnsp252.wav',\n",
       " 'clnsp5.wav',\n",
       " 'clnsp80.wav',\n",
       " 'clnsp345.wav',\n",
       " 'clnsp515.wav',\n",
       " 'clnsp35.wav',\n",
       " 'clnsp210.wav',\n",
       " 'clnsp162.wav',\n",
       " 'clnsp257.wav',\n",
       " 'clnsp524.wav',\n",
       " 'clnsp397.wav',\n",
       " 'clnsp322.wav',\n",
       " 'clnsp588.wav',\n",
       " 'clnsp557.wav',\n",
       " 'clnsp123.wav',\n",
       " 'clnsp86.wav',\n",
       " 'clnsp24.wav',\n",
       " 'clnsp190.wav',\n",
       " 'clnsp183.wav',\n",
       " 'clnsp97.wav',\n",
       " 'clnsp133.wav',\n",
       " 'clnsp287.wav',\n",
       " 'clnsp336.wav',\n",
       " 'clnsp33.wav',\n",
       " 'clnsp202.wav',\n",
       " 'clnsp196.wav',\n",
       " 'clnsp422.wav',\n",
       " 'clnsp198.wav',\n",
       " 'clnsp42.wav',\n",
       " 'clnsp275.wav',\n",
       " 'clnsp171.wav',\n",
       " 'clnsp541.wav',\n",
       " 'clnsp546.wav',\n",
       " 'clnsp286.wav',\n",
       " 'clnsp325.wav',\n",
       " 'clnsp284.wav',\n",
       " 'clnsp368.wav',\n",
       " 'clnsp1.wav',\n",
       " 'clnsp367.wav',\n",
       " 'clnsp304.wav',\n",
       " 'clnsp13.wav',\n",
       " 'clnsp432.wav',\n",
       " 'clnsp83.wav',\n",
       " 'clnsp70.wav',\n",
       " 'clnsp187.wav',\n",
       " 'clnsp404.wav',\n",
       " 'clnsp392.wav',\n",
       " 'clnsp250.wav',\n",
       " 'clnsp39.wav',\n",
       " 'clnsp278.wav',\n",
       " 'clnsp68.wav',\n",
       " 'clnsp398.wav',\n",
       " 'clnsp349.wav',\n",
       " 'clnsp459.wav',\n",
       " 'clnsp12.wav',\n",
       " 'clnsp317.wav',\n",
       " 'clnsp435.wav',\n",
       " 'clnsp84.wav',\n",
       " 'clnsp269.wav',\n",
       " 'clnsp449.wav',\n",
       " 'clnsp481.wav',\n",
       " 'clnsp235.wav',\n",
       " 'clnsp72.wav',\n",
       " 'clnsp413.wav',\n",
       " 'clnsp374.wav',\n",
       " 'clnsp331.wav',\n",
       " 'clnsp280.wav',\n",
       " 'clnsp184.wav',\n",
       " 'clnsp567.wav',\n",
       " 'clnsp431.wav',\n",
       " 'clnsp79.wav',\n",
       " 'clnsp601.wav',\n",
       " 'clnsp585.wav',\n",
       " 'clnsp414.wav',\n",
       " 'clnsp14.wav',\n",
       " 'clnsp591.wav',\n",
       " 'clnsp330.wav',\n",
       " 'clnsp254.wav',\n",
       " 'clnsp203.wav',\n",
       " 'clnsp217.wav',\n",
       " 'clnsp141.wav',\n",
       " 'clnsp20.wav',\n",
       " 'clnsp129.wav',\n",
       " 'clnsp380.wav',\n",
       " 'clnsp595.wav',\n",
       " 'clnsp570.wav',\n",
       " 'clnsp272.wav',\n",
       " 'clnsp53.wav',\n",
       " 'clnsp34.wav',\n",
       " 'clnsp47.wav',\n",
       " 'clnsp316.wav',\n",
       " 'clnsp140.wav',\n",
       " 'clnsp594.wav',\n",
       " 'clnsp136.wav',\n",
       " 'clnsp532.wav',\n",
       " 'clnsp503.wav',\n",
       " 'clnsp451.wav',\n",
       " 'clnsp458.wav',\n",
       " 'clnsp3.wav',\n",
       " 'clnsp107.wav',\n",
       " 'clnsp416.wav',\n",
       " 'clnsp447.wav',\n",
       " 'clnsp393.wav',\n",
       " 'clnsp388.wav',\n",
       " 'clnsp396.wav',\n",
       " 'clnsp122.wav',\n",
       " 'clnsp76.wav',\n",
       " 'clnsp535.wav',\n",
       " 'clnsp479.wav',\n",
       " 'clnsp74.wav',\n",
       " 'clnsp50.wav',\n",
       " 'clnsp59.wav',\n",
       " 'clnsp487.wav',\n",
       " 'clnsp62.wav',\n",
       " 'clnsp405.wav',\n",
       " 'clnsp4.wav',\n",
       " 'clnsp469.wav',\n",
       " 'clnsp528.wav',\n",
       " 'clnsp234.wav',\n",
       " 'clnsp340.wav',\n",
       " 'clnsp228.wav',\n",
       " 'clnsp461.wav',\n",
       " 'clnsp249.wav',\n",
       " 'clnsp565.wav',\n",
       " 'clnsp485.wav',\n",
       " 'clnsp185.wav',\n",
       " 'clnsp332.wav',\n",
       " 'clnsp208.wav',\n",
       " 'clnsp552.wav',\n",
       " 'clnsp111.wav',\n",
       " 'clnsp498.wav',\n",
       " 'clnsp493.wav',\n",
       " 'clnsp366.wav',\n",
       " 'clnsp200.wav',\n",
       " 'clnsp179.wav',\n",
       " 'clnsp379.wav',\n",
       " 'clnsp161.wav',\n",
       " 'clnsp151.wav',\n",
       " 'clnsp241.wav',\n",
       " 'clnsp527.wav',\n",
       " 'clnsp45.wav',\n",
       " 'clnsp166.wav',\n",
       " 'clnsp538.wav',\n",
       " 'clnsp145.wav',\n",
       " 'clnsp303.wav',\n",
       " 'clnsp517.wav',\n",
       " 'clnsp277.wav',\n",
       " 'clnsp44.wav',\n",
       " 'clnsp597.wav',\n",
       " 'clnsp27.wav',\n",
       " 'clnsp423.wav',\n",
       " 'clnsp174.wav',\n",
       " 'clnsp471.wav',\n",
       " 'clnsp67.wav',\n",
       " 'clnsp569.wav',\n",
       " 'clnsp496.wav',\n",
       " 'clnsp38.wav',\n",
       " 'clnsp135.wav',\n",
       " 'clnsp139.wav',\n",
       " 'clnsp313.wav',\n",
       " 'clnsp266.wav',\n",
       " 'clnsp216.wav',\n",
       " 'clnsp66.wav',\n",
       " 'clnsp516.wav',\n",
       " 'clnsp90.wav',\n",
       " 'clnsp22.wav',\n",
       " 'clnsp510.wav',\n",
       " 'clnsp103.wav',\n",
       " 'clnsp294.wav',\n",
       " 'clnsp46.wav',\n",
       " 'clnsp389.wav',\n",
       " 'clnsp108.wav',\n",
       " 'clnsp440.wav',\n",
       " 'clnsp347.wav',\n",
       " 'clnsp373.wav',\n",
       " 'clnsp452.wav',\n",
       " 'clnsp237.wav',\n",
       " 'clnsp500.wav',\n",
       " 'clnsp563.wav',\n",
       " 'clnsp267.wav',\n",
       " 'clnsp445.wav',\n",
       " 'clnsp214.wav',\n",
       " 'clnsp353.wav',\n",
       " 'clnsp309.wav',\n",
       " 'clnsp504.wav',\n",
       " 'clnsp514.wav',\n",
       " 'clnsp472.wav',\n",
       " 'clnsp551.wav',\n",
       " 'clnsp328.wav',\n",
       " 'clnsp382.wav',\n",
       " 'clnsp346.wav',\n",
       " 'clnsp172.wav',\n",
       " 'clnsp177.wav',\n",
       " 'clnsp534.wav',\n",
       " 'clnsp181.wav',\n",
       " 'clnsp406.wav',\n",
       " 'clnsp256.wav',\n",
       " 'clnsp201.wav',\n",
       " 'clnsp427.wav',\n",
       " 'clnsp348.wav',\n",
       " 'clnsp562.wav',\n",
       " 'clnsp23.wav',\n",
       " 'clnsp383.wav',\n",
       " 'clnsp60.wav',\n",
       " 'clnsp226.wav',\n",
       " 'clnsp522.wav',\n",
       " 'clnsp299.wav',\n",
       " 'clnsp501.wav',\n",
       " 'clnsp222.wav',\n",
       " 'clnsp505.wav',\n",
       " 'clnsp450.wav',\n",
       " 'clnsp352.wav',\n",
       " 'clnsp243.wav',\n",
       " 'clnsp323.wav',\n",
       " 'clnsp434.wav',\n",
       " 'clnsp360.wav',\n",
       " 'clnsp159.wav',\n",
       " 'clnsp219.wav',\n",
       " 'clnsp7.wav',\n",
       " 'clnsp372.wav',\n",
       " 'clnsp265.wav',\n",
       " 'clnsp492.wav',\n",
       " 'clnsp436.wav',\n",
       " 'clnsp424.wav',\n",
       " 'clnsp207.wav',\n",
       " 'clnsp89.wav',\n",
       " 'clnsp175.wav',\n",
       " 'clnsp238.wav',\n",
       " 'clnsp115.wav',\n",
       " 'clnsp355.wav',\n",
       " 'clnsp130.wav',\n",
       " 'clnsp412.wav',\n",
       " 'clnsp321.wav',\n",
       " 'clnsp453.wav',\n",
       " 'clnsp296.wav',\n",
       " 'clnsp460.wav',\n",
       " 'clnsp276.wav',\n",
       " 'clnsp264.wav',\n",
       " 'clnsp29.wav',\n",
       " 'clnsp480.wav',\n",
       " 'clnsp173.wav',\n",
       " 'clnsp583.wav',\n",
       " 'clnsp282.wav',\n",
       " 'clnsp456.wav',\n",
       " 'clnsp180.wav',\n",
       " 'clnsp401.wav',\n",
       " 'clnsp242.wav',\n",
       " 'clnsp155.wav',\n",
       " 'clnsp311.wav',\n",
       " 'clnsp381.wav',\n",
       " 'clnsp410.wav',\n",
       " 'clnsp455.wav',\n",
       " 'clnsp421.wav',\n",
       " 'clnsp156.wav',\n",
       " 'clnsp365.wav',\n",
       " 'clnsp213.wav',\n",
       " 'clnsp369.wav',\n",
       " 'clnsp586.wav',\n",
       " 'clnsp99.wav',\n",
       " 'clnsp204.wav',\n",
       " 'clnsp158.wav',\n",
       " 'clnsp448.wav',\n",
       " 'clnsp495.wav',\n",
       " 'clnsp288.wav',\n",
       " 'clnsp476.wav',\n",
       " 'clnsp227.wav',\n",
       " 'clnsp334.wav',\n",
       " 'clnsp65.wav',\n",
       " 'clnsp475.wav',\n",
       " 'clnsp544.wav',\n",
       " 'clnsp245.wav',\n",
       " 'clnsp408.wav',\n",
       " 'clnsp132.wav',\n",
       " 'clnsp439.wav',\n",
       " 'clnsp220.wav',\n",
       " 'clnsp230.wav',\n",
       " 'clnsp37.wav',\n",
       " 'clnsp363.wav',\n",
       " 'clnsp433.wav',\n",
       " 'clnsp56.wav',\n",
       " 'clnsp247.wav',\n",
       " 'clnsp400.wav',\n",
       " 'clnsp215.wav',\n",
       " 'clnsp518.wav',\n",
       " 'clnsp100.wav',\n",
       " 'clnsp540.wav',\n",
       " 'clnsp11.wav',\n",
       " 'clnsp337.wav',\n",
       " 'clnsp106.wav',\n",
       " 'clnsp324.wav',\n",
       " 'clnsp513.wav',\n",
       " 'clnsp603.wav',\n",
       " 'clnsp587.wav',\n",
       " 'clnsp43.wav',\n",
       " 'clnsp574.wav',\n",
       " 'clnsp566.wav',\n",
       " 'clnsp415.wav',\n",
       " 'clnsp61.wav',\n",
       " 'clnsp419.wav',\n",
       " 'clnsp300.wav',\n",
       " 'clnsp189.wav',\n",
       " 'clnsp143.wav',\n",
       " 'clnsp82.wav',\n",
       " 'clnsp148.wav',\n",
       " 'clnsp188.wav',\n",
       " 'clnsp390.wav',\n",
       " 'clnsp209.wav',\n",
       " 'clnsp462.wav',\n",
       " 'clnsp298.wav',\n",
       " 'clnsp258.wav',\n",
       " 'clnsp430.wav',\n",
       " 'clnsp467.wav',\n",
       " 'clnsp377.wav',\n",
       " 'clnsp137.wav',\n",
       " 'clnsp320.wav',\n",
       " 'clnsp512.wav',\n",
       " 'clnsp488.wav',\n",
       " 'clnsp306.wav',\n",
       " 'clnsp511.wav',\n",
       " 'clnsp102.wav',\n",
       " 'clnsp199.wav',\n",
       " 'clnsp116.wav',\n",
       " 'clnsp327.wav',\n",
       " 'clnsp131.wav',\n",
       " 'clnsp425.wav',\n",
       " 'clnsp375.wav',\n",
       " 'clnsp17.wav',\n",
       " 'clnsp329.wav',\n",
       " 'clnsp9.wav',\n",
       " 'clnsp457.wav',\n",
       " 'clnsp21.wav',\n",
       " 'clnsp260.wav',\n",
       " 'clnsp602.wav',\n",
       " 'clnsp370.wav',\n",
       " 'clnsp582.wav',\n",
       " 'clnsp529.wav',\n",
       " 'clnsp359.wav',\n",
       " 'clnsp571.wav',\n",
       " 'clnsp105.wav',\n",
       " 'clnsp193.wav',\n",
       " 'clnsp302.wav',\n",
       " 'clnsp506.wav',\n",
       " 'clnsp579.wav',\n",
       " 'clnsp91.wav',\n",
       " 'clnsp2.wav',\n",
       " 'clnsp58.wav',\n",
       " 'clnsp28.wav',\n",
       " 'clnsp170.wav',\n",
       " 'clnsp160.wav',\n",
       " 'clnsp417.wav',\n",
       " 'clnsp490.wav',\n",
       " 'clnsp147.wav',\n",
       " 'clnsp18.wav',\n",
       " 'clnsp94.wav',\n",
       " 'clnsp295.wav',\n",
       " 'clnsp114.wav',\n",
       " 'clnsp127.wav',\n",
       " 'clnsp48.wav',\n",
       " 'clnsp92.wav',\n",
       " 'clnsp547.wav',\n",
       " 'clnsp195.wav',\n",
       " 'clnsp590.wav',\n",
       " 'clnsp113.wav',\n",
       " 'clnsp560.wav',\n",
       " 'clnsp543.wav',\n",
       " 'clnsp338.wav',\n",
       " 'clnsp221.wav',\n",
       " 'clnsp88.wav',\n",
       " 'clnsp165.wav',\n",
       " 'clnsp310.wav',\n",
       " 'clnsp98.wav',\n",
       " 'clnsp342.wav',\n",
       " 'clnsp446.wav',\n",
       " 'clnsp326.wav',\n",
       " 'clnsp194.wav',\n",
       " 'clnsp438.wav',\n",
       " 'clnsp312.wav',\n",
       " 'clnsp572.wav',\n",
       " 'clnsp19.wav',\n",
       " 'clnsp454.wav',\n",
       " 'clnsp536.wav',\n",
       " 'clnsp463.wav',\n",
       " 'clnsp483.wav',\n",
       " 'clnsp502.wav',\n",
       " 'clnsp596.wav',\n",
       " 'clnsp499.wav',\n",
       " 'clnsp25.wav',\n",
       " 'clnsp580.wav',\n",
       " 'clnsp291.wav',\n",
       " 'clnsp314.wav',\n",
       " 'clnsp473.wav',\n",
       " 'clnsp426.wav',\n",
       " 'clnsp385.wav',\n",
       " 'clnsp128.wav',\n",
       " 'clnsp153.wav',\n",
       " 'clnsp253.wav',\n",
       " 'clnsp581.wav',\n",
       " 'clnsp15.wav',\n",
       " 'clnsp354.wav',\n",
       " 'clnsp350.wav',\n",
       " 'clnsp104.wav',\n",
       " 'clnsp41.wav',\n",
       " 'clnsp51.wav',\n",
       " 'clnsp261.wav',\n",
       " 'clnsp96.wav',\n",
       " 'clnsp429.wav',\n",
       " 'clnsp556.wav',\n",
       " 'clnsp509.wav',\n",
       " 'clnsp85.wav',\n",
       " 'clnsp558.wav',\n",
       " 'clnsp477.wav',\n",
       " 'clnsp341.wav',\n",
       " 'clnsp553.wav',\n",
       " 'clnsp491.wav',\n",
       " 'clnsp484.wav',\n",
       " 'clnsp52.wav',\n",
       " 'clnsp418.wav',\n",
       " 'clnsp549.wav',\n",
       " 'clnsp255.wav',\n",
       " 'clnsp126.wav',\n",
       " 'clnsp519.wav',\n",
       " 'clnsp281.wav',\n",
       " 'clnsp550.wav',\n",
       " 'clnsp150.wav',\n",
       " 'clnsp120.wav',\n",
       " 'clnsp144.wav',\n",
       " 'clnsp474.wav',\n",
       " 'clnsp545.wav',\n",
       " 'clnsp93.wav',\n",
       " 'clnsp478.wav',\n",
       " 'clnsp224.wav',\n",
       " 'clnsp343.wav']"
      ]
     },
     "execution_count": 18,
     "metadata": {},
     "output_type": "execute_result"
    }
   ],
   "source": [
    "files_list"
   ]
  },
  {
   "cell_type": "code",
   "execution_count": 19,
   "id": "casual-range",
   "metadata": {},
   "outputs": [],
   "source": [
    "# rename in the way to drop the prefix"
   ]
  },
  {
   "cell_type": "code",
   "execution_count": 20,
   "id": "first-summary",
   "metadata": {},
   "outputs": [],
   "source": [
    "for count, filename in enumerate(os.listdir(files_dir)):\n",
    "    os.rename(files_dir + '/' + filename, files_dir + '/' +  filename.split('_')[-1])"
   ]
  },
  {
   "cell_type": "markdown",
   "id": "chronic-statement",
   "metadata": {},
   "source": [
    "# Fix-length training samples off-line creation"
   ]
  },
  {
   "cell_type": "code",
   "execution_count": 270,
   "id": "portuguese-rover",
   "metadata": {},
   "outputs": [],
   "source": [
    "def get_file_list_from_dir(datadir):\n",
    "    all_files = os.listdir(os.path.abspath(datadir))\n",
    "    data_files = list(filter(lambda file: file.endswith('.wav'), all_files))\n",
    "    return data_files"
   ]
  },
  {
   "cell_type": "code",
   "execution_count": 271,
   "id": "constitutional-fence",
   "metadata": {},
   "outputs": [],
   "source": [
    "noisy_raw_recordings_dir = '../datasets/raw/NoisySpeech_training/'\n",
    "clean_raw_recordings_dir = '../datasets/raw/CleanSpeech_training/'"
   ]
  },
  {
   "cell_type": "code",
   "execution_count": 272,
   "id": "external-repair",
   "metadata": {},
   "outputs": [],
   "source": [
    "noisy_preprocessed_samples_dir = '../datasets/preprocessed/noisy/'\n",
    "clean_preprocessed_samples_dir = '../datasets/preprocessed/clean/'"
   ]
  },
  {
   "cell_type": "code",
   "execution_count": 273,
   "id": "fiscal-dylan",
   "metadata": {},
   "outputs": [],
   "source": [
    "os.makedirs(noisy_preprocessed_samples_dir, exist_ok=True)\n",
    "os.makedirs(clean_preprocessed_samples_dir, exist_ok=True )"
   ]
  },
  {
   "cell_type": "code",
   "execution_count": null,
   "id": "differential-offset",
   "metadata": {},
   "outputs": [],
   "source": []
  },
  {
   "cell_type": "code",
   "execution_count": 274,
   "id": "likely-glasgow",
   "metadata": {},
   "outputs": [],
   "source": [
    "def get_cut_padding(y, required_length, random_state, deterministic=False):\n",
    "\n",
    "    if isinstance(y, list):\n",
    "        audio_length = y[0].shape[-1]\n",
    "    else:\n",
    "        audio_length = y.shape[-1]\n",
    "\n",
    "    if audio_length < required_length:\n",
    "        if deterministic:\n",
    "            pad_left = 0\n",
    "        else:\n",
    "            pad_left = random_state.randint(required_length - audio_length + 1)  # 0 ~ 50 random\n",
    "        pad_right = required_length - audio_length - pad_left  # 50~ 0\n",
    "\n",
    "        if isinstance(y, list):\n",
    "            for i in range(len(y)):\n",
    "                y[i] = F.pad(y[i], (pad_left, pad_right))\n",
    "            audio_length = y[0].shape[-1]\n",
    "        else:\n",
    "            y = F.pad(y, (pad_left, pad_right))\n",
    "            audio_length = y.shape[-1]\n",
    "\n",
    "    if deterministic:\n",
    "        audio_begin = 0\n",
    "    else:\n",
    "        audio_begin = random_state.randint(audio_length - required_length + 1)\n",
    "    audio_end = required_length + audio_begin\n",
    "    if isinstance(y, list):\n",
    "        for i in range(len(y)):\n",
    "            y[i] = y[i][..., audio_begin:audio_end]\n",
    "    else:\n",
    "        y = y[..., audio_begin:audio_end]\n",
    "    return y"
   ]
  },
  {
   "cell_type": "code",
   "execution_count": 275,
   "id": "strategic-british",
   "metadata": {},
   "outputs": [],
   "source": [
    "seed = 101\n",
    "random_state = np.random.RandomState(seed)\n",
    "required_length = 16384\n",
    "samples_per_recording_second = 3\n",
    "sample_rate = 16_000"
   ]
  },
  {
   "cell_type": "code",
   "execution_count": 276,
   "id": "conditional-tunisia",
   "metadata": {},
   "outputs": [],
   "source": [
    "import librosa, librosa.display\n",
    "import soundfile as sf"
   ]
  },
  {
   "cell_type": "code",
   "execution_count": 277,
   "id": "architectural-fields",
   "metadata": {},
   "outputs": [],
   "source": [
    "#### cut -out training samples"
   ]
  },
  {
   "cell_type": "code",
   "execution_count": 278,
   "id": "conventional-service",
   "metadata": {
    "scrolled": true
   },
   "outputs": [],
   "source": [
    "files_list = get_file_list_from_dir(noisy_raw_recordings_dir)\n",
    "for file_name in files_list:\n",
    "    noisy_wave, sr = sf.read(noisy_raw_recordings_dir + file_name,  dtype=\"float32\")\n",
    "    clean_wave, sr = sf.read(clean_raw_recordings_dir + file_name,  dtype=\"float32\")\n",
    "    \n",
    "    assert sr == sample_rate\n",
    "        \n",
    "    assert len(noisy_wave) == len(clean_wave)\n",
    "    \n",
    "    for sample_idx in range(0,samples_per_recording_second * floor(len(noisy_wave)/sample_rate)):\n",
    "            \n",
    "        noisy_sample, clean_sample = cut_padding([noisy_wave,clean_wave], required_length, random_state, deterministic=False)\n",
    "        \n",
    "        sf.write(noisy_preprocessed_samples_dir + file_name.split('.')[0] + \"_\" + \\\n",
    "                                 str(sample_idx) + \".wav\", noisy_sample, sample_rate, subtype='FLOAT')\n",
    "        sf.write(clean_preprocessed_samples_dir + file_name.split('.')[0] + \"_\" + \\\n",
    "                         str(sample_idx) + \".wav\", clean_sample, sample_rate, subtype='FLOAT')\n"
   ]
  },
  {
   "cell_type": "code",
   "execution_count": 279,
   "id": "received-stereo",
   "metadata": {},
   "outputs": [
    {
     "name": "stderr",
     "output_type": "stream",
     "text": [
      "<ipython-input-279-6683306e54d1>:2: WavFileWarning: Chunk (non-data) not understood, skipping it.\n",
      "  scipy.io.wavfile.read(\"../datasets/preprocessed/clean/clnsp244_10.wav\")\n"
     ]
    },
    {
     "data": {
      "text/plain": [
       "(16000,\n",
       " array([ 0.00079346, -0.01022339,  0.0090332 , ...,  0.00457764,\n",
       "         0.00463867,  0.00482178], dtype=float32))"
      ]
     },
     "execution_count": 279,
     "metadata": {},
     "output_type": "execute_result"
    }
   ],
   "source": [
    "import scipy\n",
    "scipy.io.wavfile.read(\"../datasets/preprocessed/clean/clnsp244_10.wav\")"
   ]
  },
  {
   "cell_type": "markdown",
   "id": "mysterious-suicide",
   "metadata": {},
   "source": [
    "## train-test split"
   ]
  },
  {
   "cell_type": "code",
   "execution_count": 280,
   "id": "reliable-nursing",
   "metadata": {},
   "outputs": [],
   "source": [
    "training_dataset_directory = '../datasets/'\n"
   ]
  },
  {
   "cell_type": "code",
   "execution_count": 281,
   "id": "cloudy-battery",
   "metadata": {},
   "outputs": [],
   "source": [
    "from math import floor\n",
    "\n",
    "def get_training_and_testing_sets(file_list):\n",
    "    split = 0.7\n",
    "    split_index = floor(len(file_list) * split)\n",
    "    training = file_list[:split_index]\n",
    "    testing = file_list[split_index:]\n",
    "    return training, testing"
   ]
  },
  {
   "cell_type": "code",
   "execution_count": 282,
   "id": "restricted-watson",
   "metadata": {},
   "outputs": [],
   "source": [
    "files_list = get_file_list_from_dir(noisy_preprocessed_samples_dir)\n"
   ]
  },
  {
   "cell_type": "code",
   "execution_count": 283,
   "id": "improving-secret",
   "metadata": {},
   "outputs": [],
   "source": [
    "training, testing = get_training_and_testing_sets(files_list)"
   ]
  },
  {
   "cell_type": "code",
   "execution_count": 284,
   "id": "exact-vision",
   "metadata": {},
   "outputs": [],
   "source": [
    "for case in ['train', 'test']:\n",
    "    for xy in ['clean', 'noisy']:\n",
    "        dir_path = training_dataset_directory + case + \"_\" + xy\n",
    "        os.makedirs(dir_path, exist_ok=True)              "
   ]
  },
  {
   "cell_type": "code",
   "execution_count": 285,
   "id": "limited-holmes",
   "metadata": {},
   "outputs": [],
   "source": [
    "for f in training:\n",
    "    shutil.copy(noisy_preprocessed_samples_dir + f, training_dataset_directory + 'train_noisy')\n",
    "    shutil.copy(clean_preprocessed_samples_dir + f, training_dataset_directory + 'train_clean')\n",
    "    "
   ]
  },
  {
   "cell_type": "code",
   "execution_count": 286,
   "id": "constant-delicious",
   "metadata": {},
   "outputs": [],
   "source": [
    "for f in testing:\n",
    "    shutil.copy(noisy_preprocessed_samples_dir + f, training_dataset_directory + 'test_noisy')\n",
    "    shutil.copy(clean_preprocessed_samples_dir + f, training_dataset_directory + 'test_clean')"
   ]
  },
  {
   "cell_type": "code",
   "execution_count": null,
   "id": "cellular-account",
   "metadata": {},
   "outputs": [],
   "source": []
  },
  {
   "cell_type": "code",
   "execution_count": null,
   "id": "challenging-duplicate",
   "metadata": {},
   "outputs": [],
   "source": []
  },
  {
   "cell_type": "markdown",
   "id": "digital-revelation",
   "metadata": {},
   "source": [
    "### testing data generator module"
   ]
  },
  {
   "cell_type": "code",
   "execution_count": 244,
   "id": "stunning-developer",
   "metadata": {},
   "outputs": [],
   "source": [
    "import sys\n",
    "sys.path.insert(0,'..')"
   ]
  },
  {
   "cell_type": "code",
   "execution_count": 245,
   "id": "thermal-roberts",
   "metadata": {},
   "outputs": [],
   "source": [
    "import model_data"
   ]
  },
  {
   "cell_type": "code",
   "execution_count": null,
   "id": "eight-competition",
   "metadata": {},
   "outputs": [],
   "source": []
  },
  {
   "cell_type": "code",
   "execution_count": 246,
   "id": "white-camera",
   "metadata": {},
   "outputs": [],
   "source": [
    "train_noisy_path = '../datasets/train_noisy/'\n",
    "train_clean_path = '../datasets/train_clean/'\n",
    "batch_size = 64"
   ]
  },
  {
   "cell_type": "code",
   "execution_count": 247,
   "id": "whole-apple",
   "metadata": {},
   "outputs": [],
   "source": [
    "train_arguments = {\"inputs_ids\" : os.listdir(train_noisy_path), \n",
    "                    \"outputs_ids\" : os.listdir(train_clean_path),\n",
    "                    \"inputs_dir\" : train_noisy_path, \n",
    "                    \"outputs_dir\" : train_clean_path,\n",
    "                    \"batch_size\" : batch_size}"
   ]
  },
  {
   "cell_type": "code",
   "execution_count": 248,
   "id": "chubby-summary",
   "metadata": {},
   "outputs": [],
   "source": [
    "train_generator = model_data.datagenerator(**train_arguments)"
   ]
  },
  {
   "cell_type": "code",
   "execution_count": 249,
   "id": "north-mining",
   "metadata": {},
   "outputs": [
    {
     "data": {
      "text/plain": [
       "array([12433,  2796,  1352, ...,  3851,  1953, 11318])"
      ]
     },
     "execution_count": 249,
     "metadata": {},
     "output_type": "execute_result"
    }
   ],
   "source": [
    "train_generator.indexes"
   ]
  },
  {
   "cell_type": "code",
   "execution_count": 250,
   "id": "imported-gathering",
   "metadata": {
    "scrolled": true
   },
   "outputs": [],
   "source": [
    "for index, (train_noisy_speech, train_clean_speech) in enumerate(train_generator):\n",
    "    \n",
    "    break\n"
   ]
  },
  {
   "cell_type": "code",
   "execution_count": 251,
   "id": "interstate-quality",
   "metadata": {},
   "outputs": [
    {
     "data": {
      "text/plain": [
       "array([[[ 1395],\n",
       "        [ 1387],\n",
       "        [ 1328],\n",
       "        ...,\n",
       "        [ -212],\n",
       "        [ -323],\n",
       "        [ -373]],\n",
       "\n",
       "       [[   26],\n",
       "        [    2],\n",
       "        [   -3],\n",
       "        ...,\n",
       "        [ 1290],\n",
       "        [ 1468],\n",
       "        [ 1499]],\n",
       "\n",
       "       [[   95],\n",
       "        [  112],\n",
       "        [ -229],\n",
       "        ...,\n",
       "        [  464],\n",
       "        [  105],\n",
       "        [  336]],\n",
       "\n",
       "       ...,\n",
       "\n",
       "       [[  753],\n",
       "        [  857],\n",
       "        [  710],\n",
       "        ...,\n",
       "        [   71],\n",
       "        [ 1039],\n",
       "        [ -206]],\n",
       "\n",
       "       [[ 1783],\n",
       "        [ 1861],\n",
       "        [ 1881],\n",
       "        ...,\n",
       "        [-3100],\n",
       "        [-3864],\n",
       "        [-4543]],\n",
       "\n",
       "       [[ -486],\n",
       "        [ -182],\n",
       "        [ -117],\n",
       "        ...,\n",
       "        [ -425],\n",
       "        [-1263],\n",
       "        [-1487]]], dtype=int16)"
      ]
     },
     "execution_count": 251,
     "metadata": {},
     "output_type": "execute_result"
    }
   ],
   "source": [
    "train_noisy_speech"
   ]
  },
  {
   "cell_type": "code",
   "execution_count": null,
   "id": "usual-cleveland",
   "metadata": {},
   "outputs": [],
   "source": []
  },
  {
   "cell_type": "code",
   "execution_count": null,
   "id": "mobile-watch",
   "metadata": {},
   "outputs": [],
   "source": []
  },
  {
   "cell_type": "code",
   "execution_count": null,
   "id": "terminal-poker",
   "metadata": {},
   "outputs": [],
   "source": []
  },
  {
   "cell_type": "code",
   "execution_count": null,
   "id": "retained-indianapolis",
   "metadata": {},
   "outputs": [],
   "source": []
  },
  {
   "cell_type": "code",
   "execution_count": 186,
   "id": "curious-finding",
   "metadata": {},
   "outputs": [],
   "source": [
    "self = train_generator"
   ]
  },
  {
   "cell_type": "code",
   "execution_count": 187,
   "id": "affected-sleep",
   "metadata": {},
   "outputs": [],
   "source": [
    "index = 0"
   ]
  },
  {
   "cell_type": "code",
   "execution_count": 188,
   "id": "individual-holmes",
   "metadata": {},
   "outputs": [],
   "source": [
    "indexes = self.indexes[index * self.batch_size: (index + 1) * self.batch_size]\n"
   ]
  },
  {
   "cell_type": "code",
   "execution_count": 189,
   "id": "patient-consortium",
   "metadata": {},
   "outputs": [
    {
     "data": {
      "text/plain": [
       "array([11927,  4726,  1582,  4723,  6875,  1241, 11502,  4009, 13296,\n",
       "       10718,  7826, 11918,  9261,  5333, 12557,  1427,  8381,  5206,\n",
       "        5413,  7640,  4040, 12924,  6295, 10386,  9805,  4601,  8201,\n",
       "        2535, 13150,  8779,   361, 11524, 13605,  5467,  3515,  8378,\n",
       "        2340,  4742,  8084,  6673,  7496, 12773,  4079,  5751,  4088,\n",
       "        6272, 11019, 10042,  2167,  7547,  6125,  3002,   931,  9359,\n",
       "       12076, 12376,  2560, 13298,  9202,  8794,  4886, 12801, 12506,\n",
       "        8744])"
      ]
     },
     "execution_count": 189,
     "metadata": {},
     "output_type": "execute_result"
    }
   ],
   "source": [
    "indexes"
   ]
  },
  {
   "cell_type": "code",
   "execution_count": 190,
   "id": "thousand-anchor",
   "metadata": {},
   "outputs": [],
   "source": [
    "inputs_batch_ids  = [self.inputs_ids[k] for k in indexes]\n",
    "outputs_batch_ids = [self.outputs_ids[k] for k in indexes]"
   ]
  },
  {
   "cell_type": "code",
   "execution_count": 191,
   "id": "representative-confidentiality",
   "metadata": {
    "scrolled": true
   },
   "outputs": [
    {
     "data": {
      "text/plain": [
       "['clnsp3_28.wav',\n",
       " 'clnsp211_24.wav',\n",
       " 'clnsp500_28.wav',\n",
       " 'clnsp166_16.wav',\n",
       " 'clnsp174_32.wav',\n",
       " 'clnsp485_22.wav',\n",
       " 'clnsp125_5.wav',\n",
       " 'clnsp86_15.wav',\n",
       " 'clnsp466_11.wav',\n",
       " 'clnsp469_20.wav',\n",
       " 'clnsp587_4.wav',\n",
       " 'clnsp503_19.wav',\n",
       " 'clnsp173_7.wav',\n",
       " 'clnsp280_24.wav',\n",
       " 'clnsp431_14.wav',\n",
       " 'clnsp58_8.wav',\n",
       " 'clnsp118_24.wav',\n",
       " 'clnsp153_26.wav',\n",
       " 'clnsp110_1.wav',\n",
       " 'clnsp585_3.wav',\n",
       " 'clnsp299_28.wav',\n",
       " 'clnsp327_16.wav',\n",
       " 'clnsp17_18.wav',\n",
       " 'clnsp239_14.wav',\n",
       " 'clnsp380_31.wav',\n",
       " 'clnsp338_20.wav',\n",
       " 'clnsp42_3.wav',\n",
       " 'clnsp346_7.wav',\n",
       " 'clnsp362_20.wav',\n",
       " 'clnsp490_32.wav',\n",
       " 'clnsp71_3.wav',\n",
       " 'clnsp233_8.wav',\n",
       " 'clnsp256_32.wav',\n",
       " 'clnsp7_15.wav',\n",
       " 'clnsp45_10.wav',\n",
       " 'clnsp158_4.wav',\n",
       " 'clnsp363_5.wav',\n",
       " 'clnsp113_22.wav',\n",
       " 'clnsp308_17.wav',\n",
       " 'clnsp364_23.wav',\n",
       " 'clnsp556_14.wav',\n",
       " 'clnsp571_8.wav',\n",
       " 'clnsp288_4.wav',\n",
       " 'clnsp338_21.wav',\n",
       " 'clnsp481_23.wav',\n",
       " 'clnsp273_4.wav',\n",
       " 'clnsp413_29.wav',\n",
       " 'clnsp208_16.wav',\n",
       " 'clnsp126_18.wav',\n",
       " 'clnsp236_8.wav',\n",
       " 'clnsp200_4.wav',\n",
       " 'clnsp558_3.wav',\n",
       " 'clnsp145_20.wav',\n",
       " 'clnsp160_23.wav',\n",
       " 'clnsp123_18.wav',\n",
       " 'clnsp255_31.wav',\n",
       " 'clnsp223_0.wav',\n",
       " 'clnsp64_20.wav',\n",
       " 'clnsp50_15.wav',\n",
       " 'clnsp155_4.wav',\n",
       " 'clnsp35_9.wav',\n",
       " 'clnsp438_12.wav',\n",
       " 'clnsp189_16.wav',\n",
       " 'clnsp353_19.wav']"
      ]
     },
     "execution_count": 191,
     "metadata": {},
     "output_type": "execute_result"
    }
   ],
   "source": [
    "inputs_batch_ids"
   ]
  },
  {
   "cell_type": "code",
   "execution_count": 192,
   "id": "actual-wrestling",
   "metadata": {
    "scrolled": true
   },
   "outputs": [
    {
     "data": {
      "text/plain": [
       "['clnsp3_28.wav',\n",
       " 'clnsp211_24.wav',\n",
       " 'clnsp500_28.wav',\n",
       " 'clnsp166_16.wav',\n",
       " 'clnsp174_32.wav',\n",
       " 'clnsp485_22.wav',\n",
       " 'clnsp125_5.wav',\n",
       " 'clnsp86_15.wav',\n",
       " 'clnsp466_11.wav',\n",
       " 'clnsp469_20.wav',\n",
       " 'clnsp587_4.wav',\n",
       " 'clnsp503_19.wav',\n",
       " 'clnsp173_7.wav',\n",
       " 'clnsp280_24.wav',\n",
       " 'clnsp431_14.wav',\n",
       " 'clnsp58_8.wav',\n",
       " 'clnsp118_24.wav',\n",
       " 'clnsp153_26.wav',\n",
       " 'clnsp110_1.wav',\n",
       " 'clnsp585_3.wav',\n",
       " 'clnsp299_28.wav',\n",
       " 'clnsp327_16.wav',\n",
       " 'clnsp17_18.wav',\n",
       " 'clnsp239_14.wav',\n",
       " 'clnsp380_31.wav',\n",
       " 'clnsp338_20.wav',\n",
       " 'clnsp42_3.wav',\n",
       " 'clnsp346_7.wav',\n",
       " 'clnsp362_20.wav',\n",
       " 'clnsp490_32.wav',\n",
       " 'clnsp71_3.wav',\n",
       " 'clnsp233_8.wav',\n",
       " 'clnsp256_32.wav',\n",
       " 'clnsp7_15.wav',\n",
       " 'clnsp45_10.wav',\n",
       " 'clnsp158_4.wav',\n",
       " 'clnsp363_5.wav',\n",
       " 'clnsp113_22.wav',\n",
       " 'clnsp308_17.wav',\n",
       " 'clnsp364_23.wav',\n",
       " 'clnsp556_14.wav',\n",
       " 'clnsp571_8.wav',\n",
       " 'clnsp288_4.wav',\n",
       " 'clnsp338_21.wav',\n",
       " 'clnsp481_23.wav',\n",
       " 'clnsp273_4.wav',\n",
       " 'clnsp413_29.wav',\n",
       " 'clnsp208_16.wav',\n",
       " 'clnsp126_18.wav',\n",
       " 'clnsp236_8.wav',\n",
       " 'clnsp200_4.wav',\n",
       " 'clnsp558_3.wav',\n",
       " 'clnsp145_20.wav',\n",
       " 'clnsp160_23.wav',\n",
       " 'clnsp123_18.wav',\n",
       " 'clnsp255_31.wav',\n",
       " 'clnsp223_0.wav',\n",
       " 'clnsp64_20.wav',\n",
       " 'clnsp50_15.wav',\n",
       " 'clnsp155_4.wav',\n",
       " 'clnsp35_9.wav',\n",
       " 'clnsp438_12.wav',\n",
       " 'clnsp189_16.wav',\n",
       " 'clnsp353_19.wav']"
      ]
     },
     "execution_count": 192,
     "metadata": {},
     "output_type": "execute_result"
    }
   ],
   "source": [
    "outputs_batch_ids"
   ]
  },
  {
   "cell_type": "code",
   "execution_count": 114,
   "id": "positive-pendant",
   "metadata": {},
   "outputs": [],
   "source": [
    "import natsort\n",
    "inputs_batch_ids  = natsort.natsorted(inputs_batch_ids, reverse = False)\n",
    "outputs_batch_ids = natsort.natsorted(outputs_batch_ids, reverse = False)\n"
   ]
  },
  {
   "cell_type": "code",
   "execution_count": 115,
   "id": "turkish-austin",
   "metadata": {
    "scrolled": true
   },
   "outputs": [
    {
     "data": {
      "text/plain": [
       "['clnsp4.wav',\n",
       " 'clnsp26.wav',\n",
       " 'clnsp27.wav',\n",
       " 'clnsp34.wav',\n",
       " 'clnsp53.wav',\n",
       " 'clnsp69.wav',\n",
       " 'clnsp73.wav',\n",
       " 'clnsp74.wav',\n",
       " 'clnsp75.wav',\n",
       " 'clnsp80.wav',\n",
       " 'clnsp81.wav',\n",
       " 'clnsp89.wav',\n",
       " 'clnsp107.wav',\n",
       " 'clnsp123.wav',\n",
       " 'clnsp129.wav',\n",
       " 'clnsp138.wav',\n",
       " 'clnsp159.wav',\n",
       " 'clnsp164.wav',\n",
       " 'clnsp166.wav',\n",
       " 'clnsp180.wav',\n",
       " 'clnsp183.wav',\n",
       " 'clnsp197.wav',\n",
       " 'clnsp201.wav',\n",
       " 'clnsp203.wav',\n",
       " 'clnsp225.wav',\n",
       " 'clnsp226.wav',\n",
       " 'clnsp263.wav',\n",
       " 'clnsp267.wav',\n",
       " 'clnsp271.wav',\n",
       " 'clnsp277.wav',\n",
       " 'clnsp290.wav',\n",
       " 'clnsp299.wav',\n",
       " 'clnsp336.wav',\n",
       " 'clnsp340.wav',\n",
       " 'clnsp345.wav',\n",
       " 'clnsp356.wav',\n",
       " 'clnsp360.wav',\n",
       " 'clnsp364.wav',\n",
       " 'clnsp366.wav',\n",
       " 'clnsp368.wav',\n",
       " 'clnsp376.wav',\n",
       " 'clnsp380.wav',\n",
       " 'clnsp388.wav',\n",
       " 'clnsp392.wav',\n",
       " 'clnsp393.wav',\n",
       " 'clnsp395.wav',\n",
       " 'clnsp401.wav',\n",
       " 'clnsp416.wav',\n",
       " 'clnsp435.wav',\n",
       " 'clnsp440.wav',\n",
       " 'clnsp441.wav',\n",
       " 'clnsp445.wav',\n",
       " 'clnsp449.wav',\n",
       " 'clnsp452.wav',\n",
       " 'clnsp465.wav',\n",
       " 'clnsp493.wav',\n",
       " 'clnsp500.wav',\n",
       " 'clnsp515.wav',\n",
       " 'clnsp522.wav',\n",
       " 'clnsp548.wav',\n",
       " 'clnsp555.wav',\n",
       " 'clnsp568.wav',\n",
       " 'clnsp588.wav',\n",
       " 'clnsp610.wav']"
      ]
     },
     "execution_count": 115,
     "metadata": {},
     "output_type": "execute_result"
    }
   ],
   "source": [
    "inputs_batch_ids"
   ]
  },
  {
   "cell_type": "code",
   "execution_count": 116,
   "id": "meaningful-design",
   "metadata": {},
   "outputs": [],
   "source": [
    "inputs_list = list()\n",
    "output_list = list()"
   ]
  },
  {
   "cell_type": "code",
   "execution_count": 117,
   "id": "affiliated-summer",
   "metadata": {},
   "outputs": [],
   "source": [
    "import scipy"
   ]
  },
  {
   "cell_type": "code",
   "execution_count": 118,
   "id": "operating-rates",
   "metadata": {},
   "outputs": [
    {
     "data": {
      "text/plain": [
       "array([-115, -134, -120, ...,  -10,  -18,  -39], dtype=int16)"
      ]
     },
     "execution_count": 118,
     "metadata": {},
     "output_type": "execute_result"
    }
   ],
   "source": [
    "inputs"
   ]
  },
  {
   "cell_type": "code",
   "execution_count": 120,
   "id": "thousand-helena",
   "metadata": {},
   "outputs": [],
   "source": [
    "# inputs_path  = os.path.join(self.inputs_dir + inputs)\n"
   ]
  },
  {
   "cell_type": "code",
   "execution_count": 121,
   "id": "swiss-heading",
   "metadata": {},
   "outputs": [
    {
     "data": {
      "text/plain": [
       "(48000, array([-115, -134, -120, ...,  -10,  -18,  -39], dtype=int16))"
      ]
     },
     "execution_count": 121,
     "metadata": {},
     "output_type": "execute_result"
    }
   ],
   "source": [
    "scipy.io.wavfile.read(inputs_path)"
   ]
  },
  {
   "cell_type": "code",
   "execution_count": 79,
   "id": "persistent-notion",
   "metadata": {},
   "outputs": [
    {
     "name": "stdout",
     "output_type": "stream",
     "text": [
      "shape x:  (175211,)\n"
     ]
    },
    {
     "ename": "ValueError",
     "evalue": "cannot reshape array of size 175211 into shape (16384,1)",
     "output_type": "error",
     "traceback": [
      "\u001b[0;31m---------------------------------------------------------------------------\u001b[0m",
      "\u001b[0;31mValueError\u001b[0m                                Traceback (most recent call last)",
      "\u001b[0;32m<ipython-input-79-e09c173bdbdb>\u001b[0m in \u001b[0;36m<module>\u001b[0;34m\u001b[0m\n\u001b[1;32m      7\u001b[0m     \u001b[0;31m# y = tf.zeros([16384] - tf.shape(y), dtype=tf.float32)\u001b[0m\u001b[0;34m\u001b[0m\u001b[0;34m\u001b[0m\u001b[0;34m\u001b[0m\u001b[0m\n\u001b[1;32m      8\u001b[0m \u001b[0;34m\u001b[0m\u001b[0m\n\u001b[0;32m----> 9\u001b[0;31m     \u001b[0mx\u001b[0m \u001b[0;34m=\u001b[0m \u001b[0mnp\u001b[0m\u001b[0;34m.\u001b[0m\u001b[0mreshape\u001b[0m\u001b[0;34m(\u001b[0m\u001b[0mx\u001b[0m\u001b[0;34m,\u001b[0m \u001b[0;34m(\u001b[0m\u001b[0;36m16384\u001b[0m\u001b[0;34m,\u001b[0m \u001b[0;36m1\u001b[0m\u001b[0;34m)\u001b[0m\u001b[0;34m)\u001b[0m\u001b[0;34m\u001b[0m\u001b[0;34m\u001b[0m\u001b[0m\n\u001b[0m\u001b[1;32m     10\u001b[0m     \u001b[0my\u001b[0m \u001b[0;34m=\u001b[0m \u001b[0mnp\u001b[0m\u001b[0;34m.\u001b[0m\u001b[0mreshape\u001b[0m\u001b[0;34m(\u001b[0m\u001b[0my\u001b[0m\u001b[0;34m,\u001b[0m \u001b[0;34m(\u001b[0m\u001b[0;36m16384\u001b[0m\u001b[0;34m,\u001b[0m \u001b[0;36m1\u001b[0m\u001b[0;34m)\u001b[0m\u001b[0;34m)\u001b[0m\u001b[0;34m\u001b[0m\u001b[0;34m\u001b[0m\u001b[0m\n\u001b[1;32m     11\u001b[0m \u001b[0;34m\u001b[0m\u001b[0m\n",
      "\u001b[0;32m<__array_function__ internals>\u001b[0m in \u001b[0;36mreshape\u001b[0;34m(*args, **kwargs)\u001b[0m\n",
      "\u001b[0;32m~/filler-words-rm/venv/lib/python3.8/site-packages/numpy/core/fromnumeric.py\u001b[0m in \u001b[0;36mreshape\u001b[0;34m(a, newshape, order)\u001b[0m\n\u001b[1;32m    297\u001b[0m            [5, 6]])\n\u001b[1;32m    298\u001b[0m     \"\"\"\n\u001b[0;32m--> 299\u001b[0;31m     \u001b[0;32mreturn\u001b[0m \u001b[0m_wrapfunc\u001b[0m\u001b[0;34m(\u001b[0m\u001b[0ma\u001b[0m\u001b[0;34m,\u001b[0m \u001b[0;34m'reshape'\u001b[0m\u001b[0;34m,\u001b[0m \u001b[0mnewshape\u001b[0m\u001b[0;34m,\u001b[0m \u001b[0morder\u001b[0m\u001b[0;34m=\u001b[0m\u001b[0morder\u001b[0m\u001b[0;34m)\u001b[0m\u001b[0;34m\u001b[0m\u001b[0;34m\u001b[0m\u001b[0m\n\u001b[0m\u001b[1;32m    300\u001b[0m \u001b[0;34m\u001b[0m\u001b[0m\n\u001b[1;32m    301\u001b[0m \u001b[0;34m\u001b[0m\u001b[0m\n",
      "\u001b[0;32m~/filler-words-rm/venv/lib/python3.8/site-packages/numpy/core/fromnumeric.py\u001b[0m in \u001b[0;36m_wrapfunc\u001b[0;34m(obj, method, *args, **kwds)\u001b[0m\n\u001b[1;32m     56\u001b[0m \u001b[0;34m\u001b[0m\u001b[0m\n\u001b[1;32m     57\u001b[0m     \u001b[0;32mtry\u001b[0m\u001b[0;34m:\u001b[0m\u001b[0;34m\u001b[0m\u001b[0;34m\u001b[0m\u001b[0m\n\u001b[0;32m---> 58\u001b[0;31m         \u001b[0;32mreturn\u001b[0m \u001b[0mbound\u001b[0m\u001b[0;34m(\u001b[0m\u001b[0;34m*\u001b[0m\u001b[0margs\u001b[0m\u001b[0;34m,\u001b[0m \u001b[0;34m**\u001b[0m\u001b[0mkwds\u001b[0m\u001b[0;34m)\u001b[0m\u001b[0;34m\u001b[0m\u001b[0;34m\u001b[0m\u001b[0m\n\u001b[0m\u001b[1;32m     59\u001b[0m     \u001b[0;32mexcept\u001b[0m \u001b[0mTypeError\u001b[0m\u001b[0;34m:\u001b[0m\u001b[0;34m\u001b[0m\u001b[0;34m\u001b[0m\u001b[0m\n\u001b[1;32m     60\u001b[0m         \u001b[0;31m# A TypeError occurs if the object does have such a method in its\u001b[0m\u001b[0;34m\u001b[0m\u001b[0;34m\u001b[0m\u001b[0;34m\u001b[0m\u001b[0m\n",
      "\u001b[0;31mValueError\u001b[0m: cannot reshape array of size 175211 into shape (16384,1)"
     ]
    }
   ],
   "source": [
    "import numpy as np\n",
    "for inputs, outputs in zip(inputs_batch_ids, outputs_batch_ids):\n",
    "\n",
    "    x, y = self.__data_generation__(inputs, outputs)\n",
    "    print(\"shape x: \", x.shape)\n",
    "    # x = tf.zeros([16384] - tf.shape(x), dtype=tf.float32)\n",
    "    # y = tf.zeros([16384] - tf.shape(y), dtype=tf.float32)\n",
    "\n",
    "    x = np.reshape(x, (16384, 1))\n",
    "    y = np.reshape(y, (16384, 1))\n",
    "\n",
    "    inputs_list.append(x)\n",
    "    output_list.append(y)"
   ]
  },
  {
   "cell_type": "code",
   "execution_count": 80,
   "id": "advised-thousand",
   "metadata": {},
   "outputs": [
    {
     "data": {
      "text/plain": [
       "array([128, 211, 201, ..., 267, 170, 541], dtype=int16)"
      ]
     },
     "execution_count": 80,
     "metadata": {},
     "output_type": "execute_result"
    }
   ],
   "source": [
    "x"
   ]
  },
  {
   "cell_type": "code",
   "execution_count": 88,
   "id": "palestinian-playback",
   "metadata": {},
   "outputs": [],
   "source": [
    "inputs_path = '/home/jerzy/filler-words-rm/data/clean_trainset_28spk_wav/p226_001.wav'"
   ]
  },
  {
   "cell_type": "code",
   "execution_count": 92,
   "id": "supposed-generic",
   "metadata": {},
   "outputs": [],
   "source": [
    " _, inputs  = scipy.io.wavfile.read(inputs_path,)"
   ]
  },
  {
   "cell_type": "code",
   "execution_count": 93,
   "id": "southern-spoke",
   "metadata": {},
   "outputs": [
    {
     "data": {
      "text/plain": [
       "(48000, array([-115, -134, -120, ...,  -10,  -18,  -39], dtype=int16))"
      ]
     },
     "execution_count": 93,
     "metadata": {},
     "output_type": "execute_result"
    }
   ],
   "source": [
    " _, inputs "
   ]
  },
  {
   "cell_type": "code",
   "execution_count": 95,
   "id": "linear-theta",
   "metadata": {},
   "outputs": [
    {
     "data": {
      "text/plain": [
       "(109440,)"
      ]
     },
     "execution_count": 95,
     "metadata": {},
     "output_type": "execute_result"
    }
   ],
   "source": [
    "inputs.shape"
   ]
  },
  {
   "cell_type": "code",
   "execution_count": 98,
   "id": "infectious-briefs",
   "metadata": {},
   "outputs": [
    {
     "data": {
      "text/plain": [
       "36480.0"
      ]
     },
     "execution_count": 98,
     "metadata": {},
     "output_type": "execute_result"
    }
   ],
   "source": [
    "inputs.shape[0]/3"
   ]
  },
  {
   "cell_type": "code",
   "execution_count": 90,
   "id": "apart-spirituality",
   "metadata": {},
   "outputs": [],
   "source": [
    "# return sampling_rate, sound (smapling_rate = 16000)\n",
    "_, x  = scipy.io.wavfile.read(inputs_path)\n",
    "_, y = scipy.io.wavfile.read(inputs_path)"
   ]
  },
  {
   "cell_type": "code",
   "execution_count": 91,
   "id": "anonymous-design",
   "metadata": {},
   "outputs": [
    {
     "name": "stdout",
     "output_type": "stream",
     "text": [
      "shape x:  (109440,)\n"
     ]
    },
    {
     "ename": "ValueError",
     "evalue": "cannot reshape array of size 109440 into shape (16384,1)",
     "output_type": "error",
     "traceback": [
      "\u001b[0;31m---------------------------------------------------------------------------\u001b[0m",
      "\u001b[0;31mValueError\u001b[0m                                Traceback (most recent call last)",
      "\u001b[0;32m<ipython-input-91-3adb2b130ca5>\u001b[0m in \u001b[0;36m<module>\u001b[0;34m\u001b[0m\n\u001b[1;32m      4\u001b[0m \u001b[0;31m# y = tf.zeros([16384] - tf.shape(y), dtype=tf.float32)\u001b[0m\u001b[0;34m\u001b[0m\u001b[0;34m\u001b[0m\u001b[0;34m\u001b[0m\u001b[0m\n\u001b[1;32m      5\u001b[0m \u001b[0;34m\u001b[0m\u001b[0m\n\u001b[0;32m----> 6\u001b[0;31m \u001b[0mx\u001b[0m \u001b[0;34m=\u001b[0m \u001b[0mnp\u001b[0m\u001b[0;34m.\u001b[0m\u001b[0mreshape\u001b[0m\u001b[0;34m(\u001b[0m\u001b[0mx\u001b[0m\u001b[0;34m,\u001b[0m \u001b[0;34m(\u001b[0m\u001b[0;36m16384\u001b[0m\u001b[0;34m,\u001b[0m \u001b[0;36m1\u001b[0m\u001b[0;34m)\u001b[0m\u001b[0;34m)\u001b[0m\u001b[0;34m\u001b[0m\u001b[0;34m\u001b[0m\u001b[0m\n\u001b[0m\u001b[1;32m      7\u001b[0m \u001b[0my\u001b[0m \u001b[0;34m=\u001b[0m \u001b[0mnp\u001b[0m\u001b[0;34m.\u001b[0m\u001b[0mreshape\u001b[0m\u001b[0;34m(\u001b[0m\u001b[0my\u001b[0m\u001b[0;34m,\u001b[0m \u001b[0;34m(\u001b[0m\u001b[0;36m16384\u001b[0m\u001b[0;34m,\u001b[0m \u001b[0;36m1\u001b[0m\u001b[0;34m)\u001b[0m\u001b[0;34m)\u001b[0m\u001b[0;34m\u001b[0m\u001b[0;34m\u001b[0m\u001b[0m\n\u001b[1;32m      8\u001b[0m \u001b[0;34m\u001b[0m\u001b[0m\n",
      "\u001b[0;32m<__array_function__ internals>\u001b[0m in \u001b[0;36mreshape\u001b[0;34m(*args, **kwargs)\u001b[0m\n",
      "\u001b[0;32m~/filler-words-rm/venv/lib/python3.8/site-packages/numpy/core/fromnumeric.py\u001b[0m in \u001b[0;36mreshape\u001b[0;34m(a, newshape, order)\u001b[0m\n\u001b[1;32m    297\u001b[0m            [5, 6]])\n\u001b[1;32m    298\u001b[0m     \"\"\"\n\u001b[0;32m--> 299\u001b[0;31m     \u001b[0;32mreturn\u001b[0m \u001b[0m_wrapfunc\u001b[0m\u001b[0;34m(\u001b[0m\u001b[0ma\u001b[0m\u001b[0;34m,\u001b[0m \u001b[0;34m'reshape'\u001b[0m\u001b[0;34m,\u001b[0m \u001b[0mnewshape\u001b[0m\u001b[0;34m,\u001b[0m \u001b[0morder\u001b[0m\u001b[0;34m=\u001b[0m\u001b[0morder\u001b[0m\u001b[0;34m)\u001b[0m\u001b[0;34m\u001b[0m\u001b[0;34m\u001b[0m\u001b[0m\n\u001b[0m\u001b[1;32m    300\u001b[0m \u001b[0;34m\u001b[0m\u001b[0m\n\u001b[1;32m    301\u001b[0m \u001b[0;34m\u001b[0m\u001b[0m\n",
      "\u001b[0;32m~/filler-words-rm/venv/lib/python3.8/site-packages/numpy/core/fromnumeric.py\u001b[0m in \u001b[0;36m_wrapfunc\u001b[0;34m(obj, method, *args, **kwds)\u001b[0m\n\u001b[1;32m     56\u001b[0m \u001b[0;34m\u001b[0m\u001b[0m\n\u001b[1;32m     57\u001b[0m     \u001b[0;32mtry\u001b[0m\u001b[0;34m:\u001b[0m\u001b[0;34m\u001b[0m\u001b[0;34m\u001b[0m\u001b[0m\n\u001b[0;32m---> 58\u001b[0;31m         \u001b[0;32mreturn\u001b[0m \u001b[0mbound\u001b[0m\u001b[0;34m(\u001b[0m\u001b[0;34m*\u001b[0m\u001b[0margs\u001b[0m\u001b[0;34m,\u001b[0m \u001b[0;34m**\u001b[0m\u001b[0mkwds\u001b[0m\u001b[0;34m)\u001b[0m\u001b[0;34m\u001b[0m\u001b[0;34m\u001b[0m\u001b[0m\n\u001b[0m\u001b[1;32m     59\u001b[0m     \u001b[0;32mexcept\u001b[0m \u001b[0mTypeError\u001b[0m\u001b[0;34m:\u001b[0m\u001b[0;34m\u001b[0m\u001b[0;34m\u001b[0m\u001b[0m\n\u001b[1;32m     60\u001b[0m         \u001b[0;31m# A TypeError occurs if the object does have such a method in its\u001b[0m\u001b[0;34m\u001b[0m\u001b[0;34m\u001b[0m\u001b[0;34m\u001b[0m\u001b[0m\n",
      "\u001b[0;31mValueError\u001b[0m: cannot reshape array of size 109440 into shape (16384,1)"
     ]
    }
   ],
   "source": [
    "# x, y = self.__data_generation__(inputs, outputs)\n",
    "print(\"shape x: \", x.shape)\n",
    "# x = tf.zeros([16384] - tf.shape(x), dtype=tf.float32)\n",
    "# y = tf.zeros([16384] - tf.shape(y), dtype=tf.float32)\n",
    "\n",
    "x = np.reshape(x, (16384, 1))\n",
    "y = np.reshape(y, (16384, 1))\n",
    "\n",
    "inputs_list.append(x)\n",
    "output_list.append(y)"
   ]
  },
  {
   "cell_type": "code",
   "execution_count": 195,
   "id": "conscious-spice",
   "metadata": {},
   "outputs": [],
   "source": [
    "import tensorflow as tf\n"
   ]
  },
  {
   "cell_type": "code",
   "execution_count": 198,
   "id": "charming-surface",
   "metadata": {},
   "outputs": [],
   "source": [
    "x = tf.constant([1.8, 2.2], dtype=tf.float32)\n",
    "x = tf.cast(x, tf.int32)"
   ]
  },
  {
   "cell_type": "code",
   "execution_count": 199,
   "id": "decimal-nicholas",
   "metadata": {},
   "outputs": [
    {
     "data": {
      "text/plain": [
       "<tf.Tensor: shape=(2,), dtype=int32, numpy=array([1, 2], dtype=int32)>"
      ]
     },
     "execution_count": 199,
     "metadata": {},
     "output_type": "execute_result"
    }
   ],
   "source": [
    "x"
   ]
  },
  {
   "cell_type": "code",
   "execution_count": null,
   "id": "social-swimming",
   "metadata": {},
   "outputs": [],
   "source": []
  }
 ],
 "metadata": {
  "kernelspec": {
   "display_name": "phase_aware_dcunet",
   "language": "python",
   "name": "phase_aware_dcunet"
  },
  "language_info": {
   "codemirror_mode": {
    "name": "ipython",
    "version": 3
   },
   "file_extension": ".py",
   "mimetype": "text/x-python",
   "name": "python",
   "nbconvert_exporter": "python",
   "pygments_lexer": "ipython3",
   "version": "3.8.5"
  }
 },
 "nbformat": 4,
 "nbformat_minor": 5
}
